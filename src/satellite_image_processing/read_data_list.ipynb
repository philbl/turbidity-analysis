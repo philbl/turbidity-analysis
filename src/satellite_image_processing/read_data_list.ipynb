{
 "cells": [
  {
   "cell_type": "code",
   "execution_count": 1,
   "metadata": {},
   "outputs": [],
   "source": [
    "import imageio\n",
    "from pathlib import Path\n",
    "import matplotlib.pyplot as plt\n",
    "import pandas\n",
    "import pickle\n",
    "import numpy\n",
    "import os\n",
    "from skimage.filters import gaussian\n",
    "import sys\n",
    "from tqdm import tqdm\n",
    "\n",
    "repo_path = str(Path().resolve().parent.parent)\n",
    "os.chdir(repo_path)\n",
    "sys.path.append(repo_path)\n",
    "\n",
    "from src.satellite_image_processing.normalize_index import (\n",
    "    create_ndti_raster,\n",
    "    create_ndwi_raster\n",
    ")"
   ]
  },
  {
   "cell_type": "code",
   "execution_count": 3,
   "metadata": {},
   "outputs": [],
   "source": [
    "image_class_path_list = list(filter(lambda path: \"2022\" in str(path), list(Path(\"data/bouctouche_class\").iterdir())))"
   ]
  },
  {
   "cell_type": "code",
   "execution_count": 4,
   "metadata": {},
   "outputs": [],
   "source": [
    "image_list = []\n",
    "for image_class_path in image_class_path_list:\n",
    "    with open(image_class_path, \"rb\") as f:\n",
    "        image_list.append(pickle.load(f))"
   ]
  },
  {
   "cell_type": "code",
   "execution_count": 5,
   "metadata": {},
   "outputs": [],
   "source": [
    "image_list_no_cloud = []\n",
    "for image in image_list:\n",
    "    if image.calculated_cloud_coverage < 0.01:\n",
    "        image_list_no_cloud.append(image)"
   ]
  },
  {
   "cell_type": "code",
   "execution_count": 67,
   "metadata": {},
   "outputs": [],
   "source": [
    "tides = pandas.read_csv(\"data/1805-01-MAY-2022_slev.csv\", delimiter=\",\", skiprows=6, usecols=[0,1])\n",
    "tides.columns = [\"datetime\", \"height\"]"
   ]
  },
  {
   "cell_type": "code",
   "execution_count": 86,
   "metadata": {},
   "outputs": [],
   "source": [
    "import matplotlib.gridspec as gridspec"
   ]
  },
  {
   "cell_type": "code",
   "execution_count": 100,
   "metadata": {},
   "outputs": [
    {
     "data": {
      "text/html": [
       "<div>\n",
       "<style scoped>\n",
       "    .dataframe tbody tr th:only-of-type {\n",
       "        vertical-align: middle;\n",
       "    }\n",
       "\n",
       "    .dataframe tbody tr th {\n",
       "        vertical-align: top;\n",
       "    }\n",
       "\n",
       "    .dataframe thead th {\n",
       "        text-align: right;\n",
       "    }\n",
       "</style>\n",
       "<table border=\"1\" class=\"dataframe\">\n",
       "  <thead>\n",
       "    <tr style=\"text-align: right;\">\n",
       "      <th></th>\n",
       "      <th>datetime</th>\n",
       "      <th>height</th>\n",
       "    </tr>\n",
       "  </thead>\n",
       "  <tbody>\n",
       "    <tr>\n",
       "      <th>3490</th>\n",
       "      <td>2022/09/23 17:00</td>\n",
       "      <td>1.23</td>\n",
       "    </tr>\n",
       "    <tr>\n",
       "      <th>3491</th>\n",
       "      <td>2022/09/23 18:00</td>\n",
       "      <td>1.24</td>\n",
       "    </tr>\n",
       "    <tr>\n",
       "      <th>3492</th>\n",
       "      <td>2022/09/23 19:00</td>\n",
       "      <td>1.37</td>\n",
       "    </tr>\n",
       "    <tr>\n",
       "      <th>3493</th>\n",
       "      <td>2022/09/23 20:00</td>\n",
       "      <td>1.51</td>\n",
       "    </tr>\n",
       "    <tr>\n",
       "      <th>3494</th>\n",
       "      <td>2022/09/23 21:00</td>\n",
       "      <td>1.74</td>\n",
       "    </tr>\n",
       "    <tr>\n",
       "      <th>3495</th>\n",
       "      <td>2022/09/23 22:00</td>\n",
       "      <td>1.90</td>\n",
       "    </tr>\n",
       "    <tr>\n",
       "      <th>3496</th>\n",
       "      <td>2022/09/23 23:00</td>\n",
       "      <td>2.17</td>\n",
       "    </tr>\n",
       "    <tr>\n",
       "      <th>3497</th>\n",
       "      <td>2022/09/24 00:00</td>\n",
       "      <td>2.29</td>\n",
       "    </tr>\n",
       "    <tr>\n",
       "      <th>3498</th>\n",
       "      <td>2022/09/24 01:00</td>\n",
       "      <td>2.49</td>\n",
       "    </tr>\n",
       "    <tr>\n",
       "      <th>3499</th>\n",
       "      <td>2022/09/24 02:00</td>\n",
       "      <td>2.71</td>\n",
       "    </tr>\n",
       "    <tr>\n",
       "      <th>3500</th>\n",
       "      <td>2022/09/26 08:00</td>\n",
       "      <td>1.42</td>\n",
       "    </tr>\n",
       "    <tr>\n",
       "      <th>3501</th>\n",
       "      <td>2022/09/26 09:00</td>\n",
       "      <td>1.47</td>\n",
       "    </tr>\n",
       "    <tr>\n",
       "      <th>3502</th>\n",
       "      <td>2022/09/26 10:00</td>\n",
       "      <td>1.65</td>\n",
       "    </tr>\n",
       "    <tr>\n",
       "      <th>3503</th>\n",
       "      <td>2022/09/26 11:00</td>\n",
       "      <td>1.73</td>\n",
       "    </tr>\n",
       "    <tr>\n",
       "      <th>3504</th>\n",
       "      <td>2022/09/26 12:00</td>\n",
       "      <td>1.69</td>\n",
       "    </tr>\n",
       "    <tr>\n",
       "      <th>3505</th>\n",
       "      <td>2022/09/26 13:00</td>\n",
       "      <td>1.59</td>\n",
       "    </tr>\n",
       "    <tr>\n",
       "      <th>3506</th>\n",
       "      <td>2022/09/26 14:00</td>\n",
       "      <td>1.40</td>\n",
       "    </tr>\n",
       "    <tr>\n",
       "      <th>3507</th>\n",
       "      <td>2022/09/26 15:00</td>\n",
       "      <td>1.22</td>\n",
       "    </tr>\n",
       "    <tr>\n",
       "      <th>3508</th>\n",
       "      <td>2022/09/26 16:00</td>\n",
       "      <td>1.10</td>\n",
       "    </tr>\n",
       "    <tr>\n",
       "      <th>3509</th>\n",
       "      <td>2022/09/26 17:00</td>\n",
       "      <td>1.09</td>\n",
       "    </tr>\n",
       "  </tbody>\n",
       "</table>\n",
       "</div>"
      ],
      "text/plain": [
       "              datetime  height\n",
       "3490  2022/09/23 17:00    1.23\n",
       "3491  2022/09/23 18:00    1.24\n",
       "3492  2022/09/23 19:00    1.37\n",
       "3493  2022/09/23 20:00    1.51\n",
       "3494  2022/09/23 21:00    1.74\n",
       "3495  2022/09/23 22:00    1.90\n",
       "3496  2022/09/23 23:00    2.17\n",
       "3497  2022/09/24 00:00    2.29\n",
       "3498  2022/09/24 01:00    2.49\n",
       "3499  2022/09/24 02:00    2.71\n",
       "3500  2022/09/26 08:00    1.42\n",
       "3501  2022/09/26 09:00    1.47\n",
       "3502  2022/09/26 10:00    1.65\n",
       "3503  2022/09/26 11:00    1.73\n",
       "3504  2022/09/26 12:00    1.69\n",
       "3505  2022/09/26 13:00    1.59\n",
       "3506  2022/09/26 14:00    1.40\n",
       "3507  2022/09/26 15:00    1.22\n",
       "3508  2022/09/26 16:00    1.10\n",
       "3509  2022/09/26 17:00    1.09"
      ]
     },
     "execution_count": 100,
     "metadata": {},
     "output_type": "execute_result"
    }
   ],
   "source": [
    "tides[3490:3510]"
   ]
  },
  {
   "cell_type": "code",
   "execution_count": 93,
   "metadata": {},
   "outputs": [
    {
     "data": {
      "text/plain": [
       "'2022-09-25'"
      ]
     },
     "execution_count": 93,
     "metadata": {},
     "output_type": "execute_result"
    }
   ],
   "source": [
    "date"
   ]
  },
  {
   "cell_type": "code",
   "execution_count": 101,
   "metadata": {},
   "outputs": [
    {
     "name": "stderr",
     "output_type": "stream",
     "text": [
      "  6%|▌         | 1/17 [00:00<00:10,  1.58it/s]C:\\Users\\ETE008168\\OneDrive - INRS\\Documents\\turbidity_repo\\turbidity-analysis\\src\\satellite_image_processing\\normalize_index.py:11: RuntimeWarning: invalid value encountered in divide\n",
      "  ndti = (red_band - green_band)/(red_band + green_band)\n",
      "100%|██████████| 17/17 [00:09<00:00,  1.71it/s]\n"
     ]
    }
   ],
   "source": [
    "img_index_for_water_mask = 3\n",
    "ndwi = create_ndwi_raster(image_list_no_cloud[img_index_for_water_mask].green_band, image_list_no_cloud[img_index_for_water_mask].nir_band)\n",
    "water_mask = numpy.atleast_3d((ndwi > 0.01)*1)[:600, :1500, :]\n",
    "rgb = image_list_no_cloud[img_index_for_water_mask].get_rgb_float_true_color_image()[:600, :1500, :]\n",
    "for img_index in tqdm(range(len(image_list_no_cloud))):\n",
    "    fig = plt.figure(figsize=(10, 5))\n",
    "    gs = gridspec.GridSpec(1, 2, width_ratios=[3, 1])\n",
    "    axs = [plt.subplot(gs[0]), plt.subplot(gs[1])]\n",
    "    date = image_list_no_cloud[img_index].date.split(\"T\")[0]\n",
    "    try:\n",
    "        tide_height = tides[tides[\"datetime\"] == date.replace(\"-\", \"/\") + \" 15:00\"][\"height\"].values[0]\n",
    "    except:\n",
    "        tide_height = 0\n",
    "    ndti = numpy.atleast_3d(create_ndti_raster(image_list_no_cloud[img_index].red_band, image_list_no_cloud[img_index].green_band))[:600, :1500]\n",
    "    alpha_array = (numpy.ones_like(water_mask)*0.70*water_mask)[:600,:1500,0]\n",
    "    axs[0].imshow(rgb)\n",
    "    axs[0].imshow(ndti*water_mask, cmap=\"Reds\",alpha=alpha_array, vmin=-0.15, vmax=0.35)\n",
    "    axs[0].axis(\"off\")\n",
    "    axs[1].bar([0], [tide_height])\n",
    "    axs[1].set_ylim(0, 3)\n",
    "    axs[1].set_xticks([0], [\"tide_height\"])\n",
    "    axs[1].set_xticks([0], [\"tide_height\"])\n",
    "    axs[1].text(0, tide_height, str(tide_height), ha='center', va='bottom')\n",
    "    axs[1].set_title(\"Tide Height\")\n",
    "    fig.suptitle(date)\n",
    "    plt.tight_layout()\n",
    "    plt.savefig(f\"data/bouctouche_turbidity_img/{date}.png\")\n",
    "    plt.close()"
   ]
  },
  {
   "cell_type": "code",
   "execution_count": 109,
   "metadata": {},
   "outputs": [
    {
     "data": {
      "text/plain": [
       "1.0"
      ]
     },
     "execution_count": 109,
     "metadata": {},
     "output_type": "execute_result"
    }
   ],
   "source": [
    "numpy.nanmax(ndti)"
   ]
  },
  {
   "cell_type": "code",
   "execution_count": 26,
   "metadata": {},
   "outputs": [],
   "source": [
    "image_png_path_list = list(Path(\"data/bouctouche_turbidity_img\").iterdir())"
   ]
  },
  {
   "cell_type": "code",
   "execution_count": 27,
   "metadata": {},
   "outputs": [],
   "source": []
  },
  {
   "cell_type": "code",
   "execution_count": 102,
   "metadata": {},
   "outputs": [],
   "source": [
    "frames = []\n",
    "for image_png_path in image_png_path_list:\n",
    "    image = imageio.v2.imread(image_png_path)\n",
    "    frames.append(image)"
   ]
  },
  {
   "cell_type": "code",
   "execution_count": 104,
   "metadata": {},
   "outputs": [],
   "source": [
    "imageio.mimsave(\n",
    "    'bouctouche.gif',\n",
    "    frames,       \n",
    "    duration=1000\n",
    ")   "
   ]
  },
  {
   "cell_type": "code",
   "execution_count": 70,
   "metadata": {},
   "outputs": [
    {
     "data": {
      "text/plain": [
       "0.2"
      ]
     },
     "execution_count": 70,
     "metadata": {},
     "output_type": "execute_result"
    }
   ],
   "source": [
    "tides[\"height\"].min()"
   ]
  },
  {
   "cell_type": "code",
   "execution_count": 71,
   "metadata": {},
   "outputs": [
    {
     "data": {
      "text/plain": [
       "2.71"
      ]
     },
     "execution_count": 71,
     "metadata": {},
     "output_type": "execute_result"
    }
   ],
   "source": [
    "tides[\"height\"].max()"
   ]
  },
  {
   "cell_type": "code",
   "execution_count": null,
   "metadata": {},
   "outputs": [],
   "source": []
  }
 ],
 "metadata": {
  "kernelspec": {
   "display_name": "turbidite",
   "language": "python",
   "name": "turbidite"
  },
  "language_info": {
   "codemirror_mode": {
    "name": "ipython",
    "version": 3
   },
   "file_extension": ".py",
   "mimetype": "text/x-python",
   "name": "python",
   "nbconvert_exporter": "python",
   "pygments_lexer": "ipython3",
   "version": "3.10.11"
  },
  "orig_nbformat": 4
 },
 "nbformat": 4,
 "nbformat_minor": 2
}
