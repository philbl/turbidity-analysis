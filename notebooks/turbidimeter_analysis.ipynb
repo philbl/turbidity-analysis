{
 "cells": [
  {
   "cell_type": "code",
   "execution_count": 1,
   "metadata": {},
   "outputs": [],
   "source": [
    "from pathlib import Path\n",
    "import matplotlib.pyplot as plt\n",
    "import os\n",
    "import sys\n",
    "repo_path = str(Path().resolve().parent)\n",
    "os.chdir(repo_path)\n",
    "plt.style.use(\"ggplot\")\n",
    "sys.path.append(repo_path)\n",
    "\n",
    "from src.turbidity_time_series.load_clean_data import load_and_clean_data\n",
    "from src.turbidity_time_series.plot_all_figure import plot_and_save_all_figure\n",
    "from src.turbidity_time_series.outlier_value import (\n",
    "    filter_turbidity_according_to_rolling_window_and_max_difference,\n",
    "    fill_none_value_with_local_interpolation,\n",
    ")"
   ]
  },
  {
   "cell_type": "code",
   "execution_count": 13,
   "metadata": {},
   "outputs": [],
   "source": [
    "DATA_PATH = \"data/2022_data\"\n",
    "ROLLING_WINDOW = 3\n",
    "MAX_ABS_DIFFERENCE_IN_ROLLING_WINDOW = 50"
   ]
  },
  {
   "cell_type": "code",
   "execution_count": 25,
   "metadata": {},
   "outputs": [
    {
     "name": "stderr",
     "output_type": "stream",
     "text": [
      "C:\\Users\\ETE008168\\OneDrive - INRS\\Documents\\turbidity_repo\\turbidity-analysis\\src\\turbidity_time_series\\outlier_value.py:60: RuntimeWarning: Mean of empty slice\n",
      "  value = numpy.nanmean(\n",
      "C:\\Users\\ETE008168\\OneDrive - INRS\\Documents\\turbidity_repo\\turbidity-analysis\\src\\turbidity_time_series\\outlier_value.py:60: RuntimeWarning: Mean of empty slice\n",
      "  value = numpy.nanmean(\n",
      "C:\\Users\\ETE008168\\OneDrive - INRS\\Documents\\turbidity_repo\\turbidity-analysis\\src\\turbidity_time_series\\outlier_value.py:60: RuntimeWarning: Mean of empty slice\n",
      "  value = numpy.nanmean(\n",
      "C:\\Users\\ETE008168\\OneDrive - INRS\\Documents\\turbidity_repo\\turbidity-analysis\\src\\turbidity_time_series\\outlier_value.py:60: RuntimeWarning: Mean of empty slice\n",
      "  value = numpy.nanmean(\n",
      "C:\\Users\\ETE008168\\OneDrive - INRS\\Documents\\turbidity_repo\\turbidity-analysis\\src\\turbidity_time_series\\outlier_value.py:60: RuntimeWarning: Mean of empty slice\n",
      "  value = numpy.nanmean(\n",
      "C:\\Users\\ETE008168\\OneDrive - INRS\\Documents\\turbidity_repo\\turbidity-analysis\\src\\turbidity_time_series\\outlier_value.py:60: RuntimeWarning: Mean of empty slice\n",
      "  value = numpy.nanmean(\n"
     ]
    }
   ],
   "source": [
    "data_path_list = list(filter(lambda path: path.is_file(), Path(DATA_PATH).iterdir()))\n",
    "for data_path in data_path_list:\n",
    "    estuary_name = Path(data_path).stem\n",
    "    data = load_and_clean_data(data_path)\n",
    "    data[\"filtered_turbidity\"] = filter_turbidity_according_to_rolling_window_and_max_difference(\n",
    "        data[\"turbidity\"], ROLLING_WINDOW, MAX_ABS_DIFFERENCE_IN_ROLLING_WINDOW\n",
    "    )\n",
    "    data[\"filtered_interpolated_turbidity\"] = fill_none_value_with_local_interpolation(\n",
    "        data[\"filtered_turbidity\"]\n",
    "    )\n",
    "    data.to_csv(Path(DATA_PATH, \"outlier_removal\", f\"{estuary_name}.csv\"))"
   ]
  },
  {
   "cell_type": "code",
   "execution_count": 4,
   "metadata": {},
   "outputs": [],
   "source": []
  },
  {
   "cell_type": "code",
   "execution_count": 5,
   "metadata": {},
   "outputs": [
    {
     "name": "stderr",
     "output_type": "stream",
     "text": [
      "C:\\Users\\ETE008168\\OneDrive - INRS\\Documents\\turbidity_repo\\turbidity-analysis\\src\\turbidity_time_series\\outlier_value.py:60: RuntimeWarning: Mean of empty slice\n",
      "  value = numpy.nanmean(\n"
     ]
    }
   ],
   "source": []
  },
  {
   "cell_type": "code",
   "execution_count": 7,
   "metadata": {},
   "outputs": [
    {
     "data": {
      "text/plain": [
       "date                               2022-10-19 14:37:21\n",
       "turbidity                                       1125.5\n",
       "temp                                              37.9\n",
       "filtered_turbidity                              646.81\n",
       "filtered_interpolated_turbidity                 646.81\n",
       "dtype: object"
      ]
     },
     "execution_count": 7,
     "metadata": {},
     "output_type": "execute_result"
    }
   ],
   "source": []
  },
  {
   "cell_type": "code",
   "execution_count": 21,
   "metadata": {},
   "outputs": [
    {
     "name": "stderr",
     "output_type": "stream",
     "text": [
      "C:\\Users\\ETE008168\\OneDrive - INRS\\Documents\\git_repo\\turbidity-analysis\\src\\turbidity_time_series\\outlier_value.py:33: RuntimeWarning: Mean of empty slice\n",
      "  value = numpy.nanmean(turbidity_series[i-k:i].to_list() + turbidity_series[i+1:i+1+k].to_list())\n",
      "C:\\Users\\ETE008168\\OneDrive - INRS\\Documents\\git_repo\\turbidity-analysis\\src\\turbidity_time_series\\outlier_value.py:33: RuntimeWarning: Mean of empty slice\n",
      "  value = numpy.nanmean(turbidity_series[i-k:i].to_list() + turbidity_series[i+1:i+1+k].to_list())\n"
     ]
    }
   ],
   "source": [
    "for filtering_value in [50, 100, 10000]:\n",
    "    plot_and_save_all_figure(data, filtering_value, ESTUARY_NAME, filter_after_nrow=None)"
   ]
  },
  {
   "cell_type": "code",
   "execution_count": null,
   "metadata": {},
   "outputs": [],
   "source": []
  }
 ],
 "metadata": {
  "kernelspec": {
   "display_name": "turbidite",
   "language": "python",
   "name": "turbidite"
  },
  "language_info": {
   "codemirror_mode": {
    "name": "ipython",
    "version": 3
   },
   "file_extension": ".py",
   "mimetype": "text/x-python",
   "name": "python",
   "nbconvert_exporter": "python",
   "pygments_lexer": "ipython3",
   "version": "3.10.11"
  },
  "orig_nbformat": 4
 },
 "nbformat": 4,
 "nbformat_minor": 2
}
