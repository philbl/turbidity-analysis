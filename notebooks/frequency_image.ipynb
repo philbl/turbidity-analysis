{
 "cells": [
  {
   "cell_type": "code",
   "execution_count": 1,
   "metadata": {},
   "outputs": [],
   "source": [
    "import os\n",
    "from datetime import datetime, timedelta\n",
    "import numpy\n",
    "from pathlib import Path\n",
    "from natsort import natsorted\n",
    "os.chdir(\"../\")"
   ]
  },
  {
   "cell_type": "code",
   "execution_count": 18,
   "metadata": {},
   "outputs": [],
   "source": [
    "image_path_list = [uuid for uuid in Path(\"data/sentinel2_data/morell/\").iterdir() if \"_2023\" in str(uuid)]"
   ]
  },
  {
   "cell_type": "code",
   "execution_count": 19,
   "metadata": {},
   "outputs": [],
   "source": [
    "date_list = [image_path.stem.split(\"_\")[2] for image_path in image_path_list]"
   ]
  },
  {
   "cell_type": "code",
   "execution_count": 20,
   "metadata": {},
   "outputs": [],
   "source": [
    "date_list = natsorted(date_list)"
   ]
  },
  {
   "cell_type": "code",
   "execution_count": 21,
   "metadata": {},
   "outputs": [
    {
     "data": {
      "text/plain": [
       "['20230503T151651',\n",
       " '20230505T150719',\n",
       " '20230508T151659',\n",
       " '20230510T150711',\n",
       " '20230513T151651',\n",
       " '20230515T150719',\n",
       " '20230518T151659',\n",
       " '20230520T150721',\n",
       " '20230523T151651',\n",
       " '20230525T150719',\n",
       " '20230528T151659',\n",
       " '20230530T150721',\n",
       " '20230602T151651',\n",
       " '20230604T150719']"
      ]
     },
     "execution_count": 21,
     "metadata": {},
     "output_type": "execute_result"
    }
   ],
   "source": [
    "date_list"
   ]
  },
  {
   "cell_type": "code",
   "execution_count": 22,
   "metadata": {},
   "outputs": [],
   "source": [
    "date_0 = datetime.strptime(date_list[0], \"%Y%m%dT%H%M%S\")\n",
    "date_1 = datetime.strptime(date_list[1], \"%Y%m%dT%H%M%S\")"
   ]
  },
  {
   "cell_type": "code",
   "execution_count": 23,
   "metadata": {},
   "outputs": [],
   "source": [
    "days_timedelta_list = numpy.arange(0, 125, 5)"
   ]
  },
  {
   "cell_type": "code",
   "execution_count": 24,
   "metadata": {},
   "outputs": [],
   "source": [
    "projected_satellite_datetime_list = []\n",
    "for days_delta in days_timedelta_list:\n",
    "    time_delta = timedelta(days=int(days_delta))\n",
    "    projected_satellite_datetime_list.append(date_0 + time_delta)\n",
    "    projected_satellite_datetime_list.append(date_1 + time_delta)"
   ]
  },
  {
   "cell_type": "code",
   "execution_count": 25,
   "metadata": {},
   "outputs": [
    {
     "data": {
      "text/plain": [
       "['20230503T151651',\n",
       " '20230505T150719',\n",
       " '20230508T151659',\n",
       " '20230510T150711',\n",
       " '20230513T151651',\n",
       " '20230515T150719',\n",
       " '20230518T151659',\n",
       " '20230520T150721',\n",
       " '20230523T151651',\n",
       " '20230525T150719',\n",
       " '20230528T151659',\n",
       " '20230530T150721',\n",
       " '20230602T151651',\n",
       " '20230604T150719']"
      ]
     },
     "execution_count": 25,
     "metadata": {},
     "output_type": "execute_result"
    }
   ],
   "source": [
    "date_list"
   ]
  },
  {
   "cell_type": "code",
   "execution_count": 26,
   "metadata": {},
   "outputs": [
    {
     "name": "stdout",
     "output_type": "stream",
     "text": [
      "03 May 2023, 15:16\n",
      "05 May 2023, 15:07\n",
      "08 May 2023, 15:16\n",
      "10 May 2023, 15:07\n",
      "13 May 2023, 15:16\n",
      "15 May 2023, 15:07\n",
      "18 May 2023, 15:16\n",
      "20 May 2023, 15:07\n",
      "23 May 2023, 15:16\n",
      "25 May 2023, 15:07\n",
      "28 May 2023, 15:16\n",
      "30 May 2023, 15:07\n",
      "02 Jun 2023, 15:16\n",
      "04 Jun 2023, 15:07\n",
      "07 Jun 2023, 15:16\n",
      "09 Jun 2023, 15:07\n",
      "12 Jun 2023, 15:16\n",
      "14 Jun 2023, 15:07\n",
      "17 Jun 2023, 15:16\n",
      "19 Jun 2023, 15:07\n",
      "22 Jun 2023, 15:16\n",
      "24 Jun 2023, 15:07\n",
      "27 Jun 2023, 15:16\n",
      "29 Jun 2023, 15:07\n",
      "02 Jul 2023, 15:16\n",
      "04 Jul 2023, 15:07\n",
      "07 Jul 2023, 15:16\n",
      "09 Jul 2023, 15:07\n",
      "12 Jul 2023, 15:16\n",
      "14 Jul 2023, 15:07\n",
      "17 Jul 2023, 15:16\n",
      "19 Jul 2023, 15:07\n",
      "22 Jul 2023, 15:16\n",
      "24 Jul 2023, 15:07\n",
      "27 Jul 2023, 15:16\n",
      "29 Jul 2023, 15:07\n",
      "01 Aug 2023, 15:16\n",
      "03 Aug 2023, 15:07\n",
      "06 Aug 2023, 15:16\n",
      "08 Aug 2023, 15:07\n",
      "11 Aug 2023, 15:16\n",
      "13 Aug 2023, 15:07\n",
      "16 Aug 2023, 15:16\n",
      "18 Aug 2023, 15:07\n",
      "21 Aug 2023, 15:16\n",
      "23 Aug 2023, 15:07\n",
      "26 Aug 2023, 15:16\n",
      "28 Aug 2023, 15:07\n",
      "31 Aug 2023, 15:16\n",
      "02 Sep 2023, 15:07\n"
     ]
    }
   ],
   "source": [
    "for date in projected_satellite_datetime_list:\n",
    "    print(date.strftime(\"%d %b %Y, %H:%M\"))"
   ]
  },
  {
   "cell_type": "code",
   "execution_count": null,
   "metadata": {},
   "outputs": [],
   "source": []
  }
 ],
 "metadata": {
  "kernelspec": {
   "display_name": "turbidite",
   "language": "python",
   "name": "turbidite"
  },
  "language_info": {
   "codemirror_mode": {
    "name": "ipython",
    "version": 3
   },
   "file_extension": ".py",
   "mimetype": "text/x-python",
   "name": "python",
   "nbconvert_exporter": "python",
   "pygments_lexer": "ipython3",
   "version": "3.10.11"
  },
  "orig_nbformat": 4
 },
 "nbformat": 4,
 "nbformat_minor": 2
}
