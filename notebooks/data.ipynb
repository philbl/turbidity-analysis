{
 "cells": [
  {
   "cell_type": "code",
   "execution_count": 14,
   "metadata": {},
   "outputs": [],
   "source": [
    "from sentinelsat import SentinelAPI, read_geojson, geojson_to_wkt\n",
    "from datetime import date\n",
    "import pandas\n",
    "import time\n",
    "from pathlib import Path"
   ]
  },
  {
   "cell_type": "code",
   "execution_count": 15,
   "metadata": {},
   "outputs": [
    {
     "data": {
      "text/plain": [
       "'/Users/philbl/Documents/inrs/turbidite'"
      ]
     },
     "execution_count": 15,
     "metadata": {},
     "output_type": "execute_result"
    }
   ],
   "source": [
    "import os\n",
    "os.getcwd()"
   ]
  },
  {
   "cell_type": "code",
   "execution_count": 16,
   "metadata": {},
   "outputs": [],
   "source": [
    "api = SentinelAPI('phil190', 'Bonjour1356', 'https://apihub.copernicus.eu/apihub')"
   ]
  },
  {
   "cell_type": "code",
   "execution_count": 17,
   "metadata": {},
   "outputs": [],
   "source": [
    "#footprint = \"POLYGON ((46.54 -64.68, 46.44 -64.90, 46.3459426 -64.8549047, 46.46 -64.57, 46.54 -64.68))\"\n",
    "footprint = \"POLYGON ((-64.68 46.54, -64.90 46.44, -64.8549047 46.3459426, -64.57 46.46, -64.68 46.54))\""
   ]
  },
  {
   "cell_type": "code",
   "execution_count": 18,
   "metadata": {},
   "outputs": [],
   "source": [
    "products = api.query(footprint,\n",
    "                     date=(date(2021, 5, 1), date(2021, 10, 1)),\n",
    "                     platformname='Sentinel-2',\n",
    "                     processinglevel = 'Level-2A',\n",
    "                     cloudcoverpercentage=(0, 75))"
   ]
  },
  {
   "cell_type": "code",
   "execution_count": 19,
   "metadata": {},
   "outputs": [
    {
     "data": {
      "text/html": [
       "<style type=\"text/css\">\n",
       "</style>\n",
       "<table id=\"T_32e58\">\n",
       "  <thead>\n",
       "    <tr>\n",
       "      <th class=\"blank level0\" >&nbsp;</th>\n",
       "      <th id=\"T_32e58_level0_col0\" class=\"col_heading level0 col0\" >title</th>\n",
       "      <th id=\"T_32e58_level0_col1\" class=\"col_heading level0 col1\" >link</th>\n",
       "      <th id=\"T_32e58_level0_col2\" class=\"col_heading level0 col2\" >link_alternative</th>\n",
       "      <th id=\"T_32e58_level0_col3\" class=\"col_heading level0 col3\" >link_icon</th>\n",
       "      <th id=\"T_32e58_level0_col4\" class=\"col_heading level0 col4\" >summary</th>\n",
       "      <th id=\"T_32e58_level0_col5\" class=\"col_heading level0 col5\" >ondemand</th>\n",
       "      <th id=\"T_32e58_level0_col6\" class=\"col_heading level0 col6\" >generationdate</th>\n",
       "      <th id=\"T_32e58_level0_col7\" class=\"col_heading level0 col7\" >beginposition</th>\n",
       "      <th id=\"T_32e58_level0_col8\" class=\"col_heading level0 col8\" >endposition</th>\n",
       "      <th id=\"T_32e58_level0_col9\" class=\"col_heading level0 col9\" >ingestiondate</th>\n",
       "      <th id=\"T_32e58_level0_col10\" class=\"col_heading level0 col10\" >orbitnumber</th>\n",
       "      <th id=\"T_32e58_level0_col11\" class=\"col_heading level0 col11\" >relativeorbitnumber</th>\n",
       "      <th id=\"T_32e58_level0_col12\" class=\"col_heading level0 col12\" >illuminationazimuthangle</th>\n",
       "      <th id=\"T_32e58_level0_col13\" class=\"col_heading level0 col13\" >illuminationzenithangle</th>\n",
       "      <th id=\"T_32e58_level0_col14\" class=\"col_heading level0 col14\" >vegetationpercentage</th>\n",
       "      <th id=\"T_32e58_level0_col15\" class=\"col_heading level0 col15\" >notvegetatedpercentage</th>\n",
       "      <th id=\"T_32e58_level0_col16\" class=\"col_heading level0 col16\" >waterpercentage</th>\n",
       "      <th id=\"T_32e58_level0_col17\" class=\"col_heading level0 col17\" >unclassifiedpercentage</th>\n",
       "      <th id=\"T_32e58_level0_col18\" class=\"col_heading level0 col18\" >mediumprobacloudspercentage</th>\n",
       "      <th id=\"T_32e58_level0_col19\" class=\"col_heading level0 col19\" >highprobacloudspercentage</th>\n",
       "      <th id=\"T_32e58_level0_col20\" class=\"col_heading level0 col20\" >snowicepercentage</th>\n",
       "      <th id=\"T_32e58_level0_col21\" class=\"col_heading level0 col21\" >cloudcoverpercentage</th>\n",
       "      <th id=\"T_32e58_level0_col22\" class=\"col_heading level0 col22\" >level1cpdiidentifier</th>\n",
       "      <th id=\"T_32e58_level0_col23\" class=\"col_heading level0 col23\" >gmlfootprint</th>\n",
       "      <th id=\"T_32e58_level0_col24\" class=\"col_heading level0 col24\" >footprint</th>\n",
       "      <th id=\"T_32e58_level0_col25\" class=\"col_heading level0 col25\" >format</th>\n",
       "      <th id=\"T_32e58_level0_col26\" class=\"col_heading level0 col26\" >processingbaseline</th>\n",
       "      <th id=\"T_32e58_level0_col27\" class=\"col_heading level0 col27\" >platformname</th>\n",
       "      <th id=\"T_32e58_level0_col28\" class=\"col_heading level0 col28\" >filename</th>\n",
       "      <th id=\"T_32e58_level0_col29\" class=\"col_heading level0 col29\" >instrumentname</th>\n",
       "      <th id=\"T_32e58_level0_col30\" class=\"col_heading level0 col30\" >instrumentshortname</th>\n",
       "      <th id=\"T_32e58_level0_col31\" class=\"col_heading level0 col31\" >size</th>\n",
       "      <th id=\"T_32e58_level0_col32\" class=\"col_heading level0 col32\" >s2datatakeid</th>\n",
       "      <th id=\"T_32e58_level0_col33\" class=\"col_heading level0 col33\" >producttype</th>\n",
       "      <th id=\"T_32e58_level0_col34\" class=\"col_heading level0 col34\" >platformidentifier</th>\n",
       "      <th id=\"T_32e58_level0_col35\" class=\"col_heading level0 col35\" >orbitdirection</th>\n",
       "      <th id=\"T_32e58_level0_col36\" class=\"col_heading level0 col36\" >platformserialidentifier</th>\n",
       "      <th id=\"T_32e58_level0_col37\" class=\"col_heading level0 col37\" >processinglevel</th>\n",
       "      <th id=\"T_32e58_level0_col38\" class=\"col_heading level0 col38\" >datastripidentifier</th>\n",
       "      <th id=\"T_32e58_level0_col39\" class=\"col_heading level0 col39\" >granuleidentifier</th>\n",
       "      <th id=\"T_32e58_level0_col40\" class=\"col_heading level0 col40\" >identifier</th>\n",
       "      <th id=\"T_32e58_level0_col41\" class=\"col_heading level0 col41\" >uuid</th>\n",
       "    </tr>\n",
       "  </thead>\n",
       "  <tbody>\n",
       "    <tr>\n",
       "      <th id=\"T_32e58_level0_row0\" class=\"row_heading level0 row0\" >617f3d5f-9fe0-488f-a58b-4f1e1923972a</th>\n",
       "      <td id=\"T_32e58_row0_col0\" class=\"data row0 col0\" >S2B_MSIL2A_20210928T152629_N0301_R068_T20TLS_20210928T195750</td>\n",
       "      <td id=\"T_32e58_row0_col1\" class=\"data row0 col1\" >https://apihub.copernicus.eu/apihub/odata/v1/Products('617f3d5f-9fe0-488f-a58b-4f1e1923972a')/$value</td>\n",
       "      <td id=\"T_32e58_row0_col2\" class=\"data row0 col2\" >https://apihub.copernicus.eu/apihub/odata/v1/Products('617f3d5f-9fe0-488f-a58b-4f1e1923972a')/</td>\n",
       "      <td id=\"T_32e58_row0_col3\" class=\"data row0 col3\" >https://apihub.copernicus.eu/apihub/odata/v1/Products('617f3d5f-9fe0-488f-a58b-4f1e1923972a')/Products('Quicklook')/$value</td>\n",
       "      <td id=\"T_32e58_row0_col4\" class=\"data row0 col4\" >Date: 2021-09-28T15:26:29.024Z, Instrument: MSI, Satellite: Sentinel-2, Size: 997.78 MB</td>\n",
       "      <td id=\"T_32e58_row0_col5\" class=\"data row0 col5\" >false</td>\n",
       "      <td id=\"T_32e58_row0_col6\" class=\"data row0 col6\" >2021-09-28 19:57:50</td>\n",
       "      <td id=\"T_32e58_row0_col7\" class=\"data row0 col7\" >2021-09-28 15:26:29.024000</td>\n",
       "      <td id=\"T_32e58_row0_col8\" class=\"data row0 col8\" >2021-09-28 15:26:29.024000</td>\n",
       "      <td id=\"T_32e58_row0_col9\" class=\"data row0 col9\" >2021-09-28 23:18:54.168000</td>\n",
       "      <td id=\"T_32e58_row0_col10\" class=\"data row0 col10\" >23832</td>\n",
       "      <td id=\"T_32e58_row0_col11\" class=\"data row0 col11\" >68</td>\n",
       "      <td id=\"T_32e58_row0_col12\" class=\"data row0 col12\" >166.810179</td>\n",
       "      <td id=\"T_32e58_row0_col13\" class=\"data row0 col13\" >49.513720</td>\n",
       "      <td id=\"T_32e58_row0_col14\" class=\"data row0 col14\" >59.803796</td>\n",
       "      <td id=\"T_32e58_row0_col15\" class=\"data row0 col15\" >1.920724</td>\n",
       "      <td id=\"T_32e58_row0_col16\" class=\"data row0 col16\" >25.368282</td>\n",
       "      <td id=\"T_32e58_row0_col17\" class=\"data row0 col17\" >1.418117</td>\n",
       "      <td id=\"T_32e58_row0_col18\" class=\"data row0 col18\" >1.293868</td>\n",
       "      <td id=\"T_32e58_row0_col19\" class=\"data row0 col19\" >3.801464</td>\n",
       "      <td id=\"T_32e58_row0_col20\" class=\"data row0 col20\" >0.028802</td>\n",
       "      <td id=\"T_32e58_row0_col21\" class=\"data row0 col21\" >6.734085</td>\n",
       "      <td id=\"T_32e58_row0_col22\" class=\"data row0 col22\" >S2B_OPER_MSI_L1C_TL_VGS2_20210928T191237_A023832_T20TLS_N03.01</td>\n",
       "      <td id=\"T_32e58_row0_col23\" class=\"data row0 col23\" ><gml:Polygon srsName=\"http://www.opengis.net/gml/srs/epsg.xml#4326\" xmlns:gml=\"http://www.opengis.net/gml\">\n",
       "   <gml:outerBoundaryIs>\n",
       "      <gml:LinearRing>\n",
       "         <gml:coordinates>46.92356100851489,-65.627014 46.947573655919015,-64.1853 45.95962253249568,-64.16403 45.93641922924405,-65.57999 46.92356100851489,-65.627014</gml:coordinates>\n",
       "      </gml:LinearRing>\n",
       "   </gml:outerBoundaryIs>\n",
       "</gml:Polygon></td>\n",
       "      <td id=\"T_32e58_row0_col24\" class=\"data row0 col24\" >MULTIPOLYGON (((-65.57999 45.93641922924405, -64.16403 45.95962253249568, -64.1853 46.947573655919015, -65.627014 46.92356100851489, -65.57999 45.93641922924405)))</td>\n",
       "      <td id=\"T_32e58_row0_col25\" class=\"data row0 col25\" >SAFE</td>\n",
       "      <td id=\"T_32e58_row0_col26\" class=\"data row0 col26\" >03.01</td>\n",
       "      <td id=\"T_32e58_row0_col27\" class=\"data row0 col27\" >Sentinel-2</td>\n",
       "      <td id=\"T_32e58_row0_col28\" class=\"data row0 col28\" >S2B_MSIL2A_20210928T152629_N0301_R068_T20TLS_20210928T195750.SAFE</td>\n",
       "      <td id=\"T_32e58_row0_col29\" class=\"data row0 col29\" >Multi-Spectral Instrument</td>\n",
       "      <td id=\"T_32e58_row0_col30\" class=\"data row0 col30\" >MSI</td>\n",
       "      <td id=\"T_32e58_row0_col31\" class=\"data row0 col31\" >997.78 MB</td>\n",
       "      <td id=\"T_32e58_row0_col32\" class=\"data row0 col32\" >GS2B_20210928T152629_023832_N03.01</td>\n",
       "      <td id=\"T_32e58_row0_col33\" class=\"data row0 col33\" >S2MSI2A</td>\n",
       "      <td id=\"T_32e58_row0_col34\" class=\"data row0 col34\" >2017-013A</td>\n",
       "      <td id=\"T_32e58_row0_col35\" class=\"data row0 col35\" >DESCENDING</td>\n",
       "      <td id=\"T_32e58_row0_col36\" class=\"data row0 col36\" >Sentinel-2B</td>\n",
       "      <td id=\"T_32e58_row0_col37\" class=\"data row0 col37\" >Level-2A</td>\n",
       "      <td id=\"T_32e58_row0_col38\" class=\"data row0 col38\" >S2B_OPER_MSI_L2A_DS_VGS2_20210928T195750_S20210928T152625_N03.01</td>\n",
       "      <td id=\"T_32e58_row0_col39\" class=\"data row0 col39\" >S2B_OPER_MSI_L2A_TL_VGS2_20210928T195750_A023832_T20TLS_N03.01</td>\n",
       "      <td id=\"T_32e58_row0_col40\" class=\"data row0 col40\" >S2B_MSIL2A_20210928T152629_N0301_R068_T20TLS_20210928T195750</td>\n",
       "      <td id=\"T_32e58_row0_col41\" class=\"data row0 col41\" >617f3d5f-9fe0-488f-a58b-4f1e1923972a</td>\n",
       "    </tr>\n",
       "  </tbody>\n",
       "</table>\n"
      ],
      "text/plain": [
       "<pandas.io.formats.style.Styler at 0x7f8cc4c12ee0>"
      ]
     },
     "execution_count": 19,
     "metadata": {},
     "output_type": "execute_result"
    }
   ],
   "source": [
    "products_df = api.to_dataframe(products)\n",
    "products_df[:1].style"
   ]
  },
  {
   "cell_type": "code",
   "execution_count": 20,
   "metadata": {},
   "outputs": [],
   "source": [
    "uuid_list = products_df[\"uuid\"].to_list()"
   ]
  },
  {
   "cell_type": "code",
   "execution_count": 21,
   "metadata": {},
   "outputs": [],
   "source": [
    "uuid_dict = {}\n",
    "for uuid in uuid_list:\n",
    "    uuid_dict[uuid] = api.is_online(uuid)"
   ]
  },
  {
   "cell_type": "code",
   "execution_count": 22,
   "metadata": {},
   "outputs": [
    {
     "data": {
      "text/plain": [
       "{'617f3d5f-9fe0-488f-a58b-4f1e1923972a': False,\n",
       " '3ccafad6-c5e7-469a-9e95-13bff1ca6a01': False,\n",
       " '2cdbb3c9-f815-486e-85d6-2129809221d3': False,\n",
       " 'cd2cb708-0916-4a51-b827-0fc305af3b8d': False,\n",
       " 'f283254f-96da-4b52-816e-21fa79e5664f': False,\n",
       " '95ad0d92-a7ee-4605-a0c9-608ab3c27889': False,\n",
       " '6cadb050-c3fb-4627-ab7b-7622a5eacac3': False,\n",
       " 'ef91f8ad-ca08-4b1d-9a0d-5e4d60d105d5': False,\n",
       " '85f03bc7-486b-4f9a-8d25-06abeff106d7': False,\n",
       " '38272252-85c0-4c95-ba78-d2ab462ef9fc': False,\n",
       " '98fc882d-df3f-48e4-bbf4-f88b60411ab5': False,\n",
       " 'ad5f1a0c-91f5-4a80-8b62-9180be868c2e': False,\n",
       " '829b3781-f859-4969-9df3-3fb794c51703': False,\n",
       " 'd90e774f-d505-4e83-92b2-0a9d28a30e36': False,\n",
       " '90128108-fc60-4c07-ae25-3bfc35cfa51b': False,\n",
       " 'd3d75020-c8c4-4242-bff3-c5ff1b9d241b': False,\n",
       " '144d68be-3412-4fe6-9730-7309266f02ca': False,\n",
       " '18a5f19b-70b5-4b73-a399-cebbc5c7c605': False,\n",
       " 'a2d5d023-7257-40ea-a52c-ebc5d0fba604': False,\n",
       " '46498840-7be1-4317-adde-a6e96b20c89a': False,\n",
       " '2625411f-4702-4b8f-8cd8-fff4a924975c': False,\n",
       " '3e52a704-c9c7-4298-9842-dd8e2c07b345': False,\n",
       " 'bab02334-ea8e-473c-86f9-2b4d1611a80f': False,\n",
       " '1f809a3b-3114-45a7-b46e-398926e5dec6': False,\n",
       " '0a5d6f6b-12bd-4c70-99ff-b5bc51246eb9': False,\n",
       " 'ce8d02d7-5ea7-4568-a714-7a073097e884': False,\n",
       " '230cc42b-65d1-42e7-bb14-b9b2a4568095': False,\n",
       " '3754fcab-b4fe-4238-ae09-c2e5f108a8a3': False,\n",
       " '990da779-fdb3-4ddf-a09b-e859edcac2b0': False,\n",
       " 'bb360b93-3613-4670-b7f9-989a48515bda': False,\n",
       " 'a2887a3c-161f-4c44-8075-be99b39fc09c': False,\n",
       " 'd426eda8-ae3b-440b-a91a-b099ca98cd88': False,\n",
       " '44f82582-897d-4626-ba1d-c9d047458071': False,\n",
       " 'bc6153b7-21df-4c6d-a068-3c2fe7af1b62': False,\n",
       " '5a017537-12c5-443c-a07e-6a44851708dc': False}"
      ]
     },
     "execution_count": 22,
     "metadata": {},
     "output_type": "execute_result"
    }
   ],
   "source": [
    "uuid_dict"
   ]
  },
  {
   "cell_type": "code",
   "execution_count": null,
   "metadata": {},
   "outputs": [],
   "source": [
    "for uuid, is_online in uuid_dict.items():\n",
    "    if is_online is False:\n",
    "        try:\n",
    "            api.download(id=uuid, directory_path=\"data2022_bouctouche\")\n",
    "        except Exception as e:\n",
    "            print(e)\n",
    "            time.sleep(2700)"
   ]
  },
  {
   "cell_type": "code",
   "execution_count": 13,
   "metadata": {},
   "outputs": [],
   "source": [
    "for _, row in products_df.iterrows():\n",
    "    uuid = row[\"uuid\"]\n",
    "    folder_name = row[\"title\"]\n",
    "    if Path(\"data2022_bouctouche\", f\"{folder_name}.zip\").is_file() is False:\n",
    "        if api.is_online(uuid):\n",
    "            api.download(id=uuid, directory_path=\"data2022_bouctouche\")"
   ]
  },
  {
   "cell_type": "code",
   "execution_count": null,
   "metadata": {},
   "outputs": [],
   "source": []
  }
 ],
 "metadata": {
  "interpreter": {
   "hash": "0728f36675050af5c10bd0ca4f12391acbf6f839e3bb0347a2c9f35a413b9194"
  },
  "kernelspec": {
   "display_name": "Python 3.7.2 ('base')",
   "language": "python",
   "name": "python3"
  },
  "language_info": {
   "codemirror_mode": {
    "name": "ipython",
    "version": 3
   },
   "file_extension": ".py",
   "mimetype": "text/x-python",
   "name": "python",
   "nbconvert_exporter": "python",
   "pygments_lexer": "ipython3",
   "version": "3.8.16"
  },
  "orig_nbformat": 4
 },
 "nbformat": 4,
 "nbformat_minor": 2
}
