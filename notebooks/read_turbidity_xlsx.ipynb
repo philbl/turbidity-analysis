{
 "cells": [
  {
   "cell_type": "code",
   "execution_count": 1,
   "metadata": {},
   "outputs": [],
   "source": [
    "import copy\n",
    "from datetime import datetime\n",
    "import json\n",
    "from pathlib import Path\n",
    "import pandas\n",
    "import re\n",
    "import os\n",
    "import sys\n",
    "\n",
    "repo_path = str(Path().resolve().parent)\n",
    "os.chdir(repo_path)\n",
    "sys.path.append(repo_path)"
   ]
  },
  {
   "cell_type": "code",
   "execution_count": 20,
   "metadata": {},
   "outputs": [],
   "source": [
    "EMPTY_MEASUREMENT_DICT= {\n",
    "    \"geo_coordinates\": {\n",
    "            \"lat\": None, \"lon\": None\n",
    "        },\n",
    "    \"time\": \"\",\n",
    "    \"notes\": \"\",\n",
    "    \"depth\": None,\n",
    "    \"measures\": []\n",
    "}\n",
    "EMPTY_DATA_DICT = {\n",
    "        \"date\": \"\",\n",
    "        \"estuary_name\": \"\",\n",
    "        \"participants\": [],\n",
    "        \"notes\": \"\",\n",
    "        \"spatial_turbidity_measurement\": {\n",
    "            \"turbidity_unit\": \"FNU\",\n",
    "            \"depth_unit\": \"meter\",\n",
    "            \"measurements_list\": []\n",
    "        }\n",
    "    }\n",
    "LOC_LON_LAT_REGEX = r\"(\\w+\\s\\w+)\\s\\((-?\\s?\\d+\\.\\d+), (-?\\s?\\d+\\.\\d+)\\)\""
   ]
  },
  {
   "cell_type": "code",
   "execution_count": 3,
   "metadata": {},
   "outputs": [],
   "source": [
    "turbidity_file_path = \"data/Turbidité.xlsx\""
   ]
  },
  {
   "cell_type": "code",
   "execution_count": 35,
   "metadata": {},
   "outputs": [],
   "source": [
    "estuary_name_list = [\n",
    "    \"cocagne\",\n",
    "    \"bouctouche\",\n",
    "    \"morell\",\n",
    "    \"west\",\n",
    "    \"dunk\"\n",
    "]"
   ]
  },
  {
   "cell_type": "code",
   "execution_count": 36,
   "metadata": {},
   "outputs": [],
   "source": [
    "def create_data_dict_from_df(estuary_name, df):\n",
    "    data_dict = copy.deepcopy(EMPTY_DATA_DICT)\n",
    "    data_dict[\"date\"] = df[\"Date (yyyy-mm-dd)\"][0].strftime(\"%Y-%m-%d\")\n",
    "    data_dict[\"estuary_name\"] = estuary_name\n",
    "    data_dict[\"participants\"] = [\"Alexandre Parlee\"]\n",
    "    data_dict[\"notes\"] = df[\"Conditions\"][0]\n",
    "    measurements_list = data_dict[\"spatial_turbidity_measurement\"][\"measurements_list\"]\n",
    "    time = datetime.strptime(df[\"Time\"][0], \"%Ih%M %p\").strftime(\"%H:%M\")\n",
    "    for col in df.columns[-4:]:\n",
    "        measurement_dict = copy.deepcopy(EMPTY_MEASUREMENT_DICT)\n",
    "        measurement_values = df[col].values\n",
    "        if all(pandas.isna(measurement_values)) is False:\n",
    "            loc_lon_lat_match = re.search(LOC_LON_LAT_REGEX, col)\n",
    "            location = loc_lon_lat_match.group(1)\n",
    "            latitude = float(loc_lon_lat_match.group(2).replace(\"- \", \"-\"))\n",
    "            longitude  = float(loc_lon_lat_match.group(3).replace(\"- \", \"-\"))\n",
    "            measurement_dict[\"geo_coordinates\"][\"lat\"] = latitude\n",
    "            measurement_dict[\"geo_coordinates\"][\"lon\"] = longitude\n",
    "            measurement_dict[\"time\"] = time\n",
    "            measurement_dict[\"notes\"] = f\"{df['Turbidity Measurement'][0]} {location}\"\n",
    "            measurement_dict[\"measures\"] = list(measurement_values)\n",
    "\n",
    "            measurements_list.append(measurement_dict)\n",
    "    return data_dict"
   ]
  },
  {
   "cell_type": "code",
   "execution_count": 45,
   "metadata": {},
   "outputs": [],
   "source": [
    "for estuary_name in estuary_name_list:\n",
    "    data_dict_list = []\n",
    "    sheet_name = estuary_name.capitalize() + \" River\"\n",
    "    df = pandas.read_excel(turbidity_file_path, sheet_name=sheet_name, header=None)\n",
    "    number_of_mesaurement = (df[0] == \"Turbidity Measurement\").sum()\n",
    "    for i in range(number_of_mesaurement):\n",
    "        col_values = df.iloc[7*i].values\n",
    "        df_measure = df.iloc[7*i+1:7*(i+1) - 1].reset_index(drop=True)\n",
    "        df_measure.columns = col_values\n",
    "        data_dict_list.append(create_data_dict_from_df(estuary_name, df_measure))\n",
    "    with open(Path(\"data/field_work/json/summer_2023\", f\"{estuary_name}.json\"), \"w\") as f:\n",
    "        json.dump(data_dict_list, f, indent=2)"
   ]
  }
 ],
 "metadata": {
  "kernelspec": {
   "display_name": "turbidite",
   "language": "python",
   "name": "turbidite"
  },
  "language_info": {
   "codemirror_mode": {
    "name": "ipython",
    "version": 3
   },
   "file_extension": ".py",
   "mimetype": "text/x-python",
   "name": "python",
   "nbconvert_exporter": "python",
   "pygments_lexer": "ipython3",
   "version": "3.10.11"
  },
  "orig_nbformat": 4
 },
 "nbformat": 4,
 "nbformat_minor": 2
}
