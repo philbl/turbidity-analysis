{
 "cells": [
  {
   "cell_type": "code",
   "execution_count": 1,
   "metadata": {},
   "outputs": [],
   "source": [
    "import geopandas\n",
    "import numpy\n",
    "import os\n",
    "import json\n",
    "os.chdir(\"../\")"
   ]
  },
  {
   "cell_type": "code",
   "execution_count": 7,
   "metadata": {},
   "outputs": [],
   "source": [
    "df = geopandas.read_file(\"data/estuaries_polygon_shp/precise_estuaries/precise_estuaries.shp\")"
   ]
  },
  {
   "cell_type": "code",
   "execution_count": 8,
   "metadata": {},
   "outputs": [
    {
     "data": {
      "text/html": [
       "<style type=\"text/css\">\n",
       "</style>\n",
       "<table id=\"T_97b24\">\n",
       "  <thead>\n",
       "    <tr>\n",
       "      <th class=\"blank level0\" >&nbsp;</th>\n",
       "      <th id=\"T_97b24_level0_col0\" class=\"col_heading level0 col0\" >nom</th>\n",
       "      <th id=\"T_97b24_level0_col1\" class=\"col_heading level0 col1\" >geometry</th>\n",
       "    </tr>\n",
       "  </thead>\n",
       "  <tbody>\n",
       "    <tr>\n",
       "      <th id=\"T_97b24_level0_row0\" class=\"row_heading level0 row0\" >0</th>\n",
       "      <td id=\"T_97b24_row0_col0\" class=\"data row0 col0\" >bouctouche</td>\n",
       "      <td id=\"T_97b24_row0_col1\" class=\"data row0 col1\" >POLYGON ((-64.69316723762707 46.54262323551473, -64.59035540650744 46.46514185554053, -64.76369516042409 46.33948295083877, -64.84788165981915 46.42416612574648, -64.69316723762707 46.54262323551473))</td>\n",
       "    </tr>\n",
       "    <tr>\n",
       "      <th id=\"T_97b24_level0_row1\" class=\"row_heading level0 row1\" >1</th>\n",
       "      <td id=\"T_97b24_row1_col0\" class=\"data row1 col0\" >cocagne</td>\n",
       "      <td id=\"T_97b24_row1_col1\" class=\"data row1 col1\" >POLYGON ((-64.61121259522695 46.403601740994425, -64.53156586320263 46.33498919098859, -64.7024953737435 46.3012847804594, -64.70971774742833 46.32515873791757, -64.61121259522695 46.403601740994425))</td>\n",
       "    </tr>\n",
       "    <tr>\n",
       "      <th id=\"T_97b24_level0_row2\" class=\"row_heading level0 row2\" >2</th>\n",
       "      <td id=\"T_97b24_row2_col0\" class=\"data row2 col0\" >west</td>\n",
       "      <td id=\"T_97b24_row2_col1\" class=\"data row2 col1\" >POLYGON ((-63.341125986720485 46.214720360847515, -63.212780490502595 46.228760111374264, -63.119692118564835 46.24862163900754, -63.09642002558039 46.238389942954036, -63.09521629663293 46.17037925742192, -63.34308412174497 46.194149591512115, -63.341125986720485 46.214720360847515))</td>\n",
       "    </tr>\n",
       "    <tr>\n",
       "      <th id=\"T_97b24_level0_row3\" class=\"row_heading level0 row3\" >3</th>\n",
       "      <td id=\"T_97b24_row3_col0\" class=\"data row3 col0\" >morell</td>\n",
       "      <td id=\"T_97b24_row3_col1\" class=\"data row3 col1\" >POLYGON ((-62.69701533356869 46.36486248417894, -62.71852093948549 46.37288249237955, -62.76838842807799 46.45467167871433, -62.65495997902325 46.465681445699374, -62.65525336633225 46.42356357937334, -62.69701533356869 46.36486248417894))</td>\n",
       "    </tr>\n",
       "    <tr>\n",
       "      <th id=\"T_97b24_level0_row4\" class=\"row_heading level0 row4\" >4</th>\n",
       "      <td id=\"T_97b24_row4_col0\" class=\"data row4 col0\" >dunk</td>\n",
       "      <td id=\"T_97b24_row4_col1\" class=\"data row4 col1\" >POLYGON ((-63.836860038097086 46.39631601393318, -63.72677275107274 46.39788402849396, -63.66992181600667 46.34123099106191, -63.771676094366086 46.337711670156246, -63.836860038097086 46.39631601393318))</td>\n",
       "    </tr>\n",
       "  </tbody>\n",
       "</table>\n"
      ],
      "text/plain": [
       "<pandas.io.formats.style.Styler at 0x1f8942e7ee0>"
      ]
     },
     "execution_count": 8,
     "metadata": {},
     "output_type": "execute_result"
    }
   ],
   "source": [
    "df.style"
   ]
  },
  {
   "cell_type": "code",
   "execution_count": 9,
   "metadata": {},
   "outputs": [],
   "source": [
    "geo_dict = {}\n",
    "for i in range(len(df)):\n",
    "    name = df[\"nom\"][i]\n",
    "    string = \"POLYGON ((\"\n",
    "    for longitude, latitude in numpy.dstack(df[\"geometry\"][i].boundary.xy)[0]:\n",
    "        string += f\"{round(longitude, 5)} {round(latitude, 5)}, \"\n",
    "    string = string[:-2] + \"))\"\n",
    "    geo_dict[name] = string\n"
   ]
  },
  {
   "cell_type": "code",
   "execution_count": 10,
   "metadata": {},
   "outputs": [
    {
     "data": {
      "text/plain": [
       "{'bouctouche': 'POLYGON ((-64.69317 46.54262, -64.59036 46.46514, -64.7637 46.33948, -64.84788 46.42417, -64.69317 46.54262))',\n",
       " 'cocagne': 'POLYGON ((-64.61121 46.4036, -64.53157 46.33499, -64.7025 46.30128, -64.70972 46.32516, -64.61121 46.4036))',\n",
       " 'west': 'POLYGON ((-63.34113 46.21472, -63.21278 46.22876, -63.11969 46.24862, -63.09642 46.23839, -63.09522 46.17038, -63.34308 46.19415, -63.34113 46.21472))',\n",
       " 'morell': 'POLYGON ((-62.69702 46.36486, -62.71852 46.37288, -62.76839 46.45467, -62.65496 46.46568, -62.65525 46.42356, -62.69702 46.36486))',\n",
       " 'dunk': 'POLYGON ((-63.83686 46.39632, -63.72677 46.39788, -63.66992 46.34123, -63.77168 46.33771, -63.83686 46.39632))'}"
      ]
     },
     "execution_count": 10,
     "metadata": {},
     "output_type": "execute_result"
    }
   ],
   "source": [
    "geo_dict"
   ]
  },
  {
   "cell_type": "code",
   "execution_count": 6,
   "metadata": {},
   "outputs": [
    {
     "data": {
      "text/plain": [
       "{'bouctouche': 'POLYGON ((-64.69317 46.54262, -64.59036 46.46514, -64.7637 46.33948, -64.84788 46.42417, -64.69317 46.54262))',\n",
       " 'cocagne': 'POLYGON ((-64.61121 46.4036, -64.53157 46.33499, -64.7025 46.30128, -64.70972 46.32516, -64.61121 46.4036))',\n",
       " 'west': 'POLYGON ((-63.34113 46.21472, -63.21278 46.22876, -63.11969 46.24862, -63.09642 46.23839, -63.09522 46.17038, -63.34308 46.19415, -63.34113 46.21472))',\n",
       " 'morell': 'POLYGON ((-62.69702 46.36486, -62.71852 46.37288, -62.76839 46.45467, -62.65496 46.46568, -62.65525 46.42356, -62.69702 46.36486))',\n",
       " 'dunk': 'POLYGON ((-63.84735 46.39327, -63.72677 46.39788, -63.66088 46.33997, -63.7648 46.33961, -63.84735 46.39327))'}"
      ]
     },
     "execution_count": 6,
     "metadata": {},
     "output_type": "execute_result"
    }
   ],
   "source": [
    "{\n",
    "\"bouctouche\": \"POLYGON ((-64.69317 46.54262, -64.59036 46.46514, -64.7637 46.33948, -64.84788 46.42417, -64.69317 46.54262))\",\n",
    "\"cocagne\": \"POLYGON ((-64.61121 46.4036, -64.53157 46.33499, -64.7025 46.30128, -64.70972 46.32516, -64.61121 46.4036))\",\n",
    "\"west\": \"POLYGON ((-63.34113 46.21472, -63.21278 46.22876, -63.11969 46.24862, -63.09642 46.23839, -63.09522 46.17038, -63.34308 46.19415, -63.34113 46.21472))\",\n",
    "\"morell\": \"POLYGON ((-62.69702 46.36486, -62.71852 46.37288, -62.76839 46.45467, -62.65496 46.46568, -62.65525 46.42356, -62.69702 46.36486))\",\n",
    "\"dunk\": \"POLYGON ((-63.84735 46.39327, -63.72677 46.39788, -63.66088 46.33997, -63.7648 46.33961, -63.84735 46.39327))\",\n",
    "}\n"
   ]
  },
  {
   "cell_type": "code",
   "execution_count": null,
   "metadata": {},
   "outputs": [],
   "source": []
  }
 ],
 "metadata": {
  "kernelspec": {
   "display_name": "turbidite",
   "language": "python",
   "name": "turbidite"
  },
  "language_info": {
   "codemirror_mode": {
    "name": "ipython",
    "version": 3
   },
   "file_extension": ".py",
   "mimetype": "text/x-python",
   "name": "python",
   "nbconvert_exporter": "python",
   "pygments_lexer": "ipython3",
   "version": "3.10.11"
  },
  "orig_nbformat": 4
 },
 "nbformat": 4,
 "nbformat_minor": 2
}
