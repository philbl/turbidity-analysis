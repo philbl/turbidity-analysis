{
 "cells": [
  {
   "cell_type": "code",
   "execution_count": 1,
   "metadata": {},
   "outputs": [],
   "source": [
    "import geopandas\n",
    "import numpy\n",
    "import os\n",
    "import json\n",
    "os.chdir(\"../\")"
   ]
  },
  {
   "cell_type": "code",
   "execution_count": 18,
   "metadata": {},
   "outputs": [],
   "source": [
    "df = geopandas.read_file(\"data/estuaries_polygon_shp/more_precise_estuaries/more_precise_estuaries.shp\")"
   ]
  },
  {
   "cell_type": "code",
   "execution_count": 19,
   "metadata": {},
   "outputs": [
    {
     "data": {
      "text/html": [
       "<style type=\"text/css\">\n",
       "</style>\n",
       "<table id=\"T_45e47\">\n",
       "  <thead>\n",
       "    <tr>\n",
       "      <th class=\"blank level0\" >&nbsp;</th>\n",
       "      <th id=\"T_45e47_level0_col0\" class=\"col_heading level0 col0\" >nom</th>\n",
       "      <th id=\"T_45e47_level0_col1\" class=\"col_heading level0 col1\" >geometry</th>\n",
       "    </tr>\n",
       "  </thead>\n",
       "  <tbody>\n",
       "    <tr>\n",
       "      <th id=\"T_45e47_level0_row0\" class=\"row_heading level0 row0\" >0</th>\n",
       "      <td id=\"T_45e47_row0_col0\" class=\"data row0 col0\" >bouctouche</td>\n",
       "      <td id=\"T_45e47_row0_col1\" class=\"data row0 col1\" >POLYGON ((-64.67950979394 46.509390122542854, -64.66750429891496 46.48057484060214, -64.81591518698114 46.39999592284841, -64.8455063149698 46.41775059964161, -64.67950979394 46.509390122542854))</td>\n",
       "    </tr>\n",
       "    <tr>\n",
       "      <th id=\"T_45e47_level0_row1\" class=\"row_heading level0 row1\" >1</th>\n",
       "      <td id=\"T_45e47_row1_col0\" class=\"data row1 col0\" >cocagne</td>\n",
       "      <td id=\"T_45e47_row1_col1\" class=\"data row1 col1\" >POLYGON ((-64.60877729106056 46.34843907292973, -64.59682702783438 46.31975844118687, -64.70699707357677 46.296654598949594, -64.71610203603481 46.32374186226227, -64.60877729106056 46.34843907292973))</td>\n",
       "    </tr>\n",
       "    <tr>\n",
       "      <th id=\"T_45e47_level0_row2\" class=\"row_heading level0 row2\" >2</th>\n",
       "      <td id=\"T_45e47_row2_col0\" class=\"data row2 col0\" >west</td>\n",
       "      <td id=\"T_45e47_row2_col1\" class=\"data row2 col1\" >POLYGON ((-63.352125237845634 46.21183095698872, -63.17300252169232 46.23569257830815, -63.16700648582868 46.168861108653545, -63.35444793235024 46.19324940095189, -63.352125237845634 46.21183095698872))</td>\n",
       "    </tr>\n",
       "    <tr>\n",
       "      <th id=\"T_45e47_level0_row3\" class=\"row_heading level0 row3\" >3</th>\n",
       "      <td id=\"T_45e47_row3_col0\" class=\"data row3 col0\" >morell</td>\n",
       "      <td id=\"T_45e47_row3_col1\" class=\"data row3 col1\" >POLYGON ((-62.69062184293436 46.365651400556125, -62.71030667886087 46.37163233890547, -62.700377159853694 46.4285964216309, -62.67848576414779 46.42447363888521, -62.69062184293436 46.365651400556125))</td>\n",
       "    </tr>\n",
       "    <tr>\n",
       "      <th id=\"T_45e47_level0_row4\" class=\"row_heading level0 row4\" >4</th>\n",
       "      <td id=\"T_45e47_row4_col0\" class=\"data row4 col0\" >dunk</td>\n",
       "      <td id=\"T_45e47_row4_col1\" class=\"data row4 col1\" >POLYGON ((-63.81088643618624 46.37232914725686, -63.700964918755844 46.374593774398846, -63.66992181600667 46.34123099106191, -63.771676094366086 46.337711670156246, -63.81088643618624 46.37232914725686))</td>\n",
       "    </tr>\n",
       "  </tbody>\n",
       "</table>\n"
      ],
      "text/plain": [
       "<pandas.io.formats.style.Styler at 0x25c71f11030>"
      ]
     },
     "execution_count": 19,
     "metadata": {},
     "output_type": "execute_result"
    }
   ],
   "source": [
    "df.style"
   ]
  },
  {
   "cell_type": "code",
   "execution_count": 20,
   "metadata": {},
   "outputs": [],
   "source": [
    "geo_dict = {}\n",
    "for i in range(len(df)):\n",
    "    name = df[\"nom\"][i]\n",
    "    string = \"POLYGON ((\"\n",
    "    for longitude, latitude in numpy.dstack(df[\"geometry\"][i].boundary.xy)[0]:\n",
    "        string += f\"{round(longitude, 5)} {round(latitude, 5)}, \"\n",
    "    string = string[:-2] + \"))\"\n",
    "    geo_dict[name] = string\n"
   ]
  },
  {
   "cell_type": "code",
   "execution_count": 21,
   "metadata": {},
   "outputs": [
    {
     "data": {
      "text/plain": [
       "{'bouctouche': 'POLYGON ((-64.67951 46.50939, -64.6675 46.48057, -64.81592 46.4, -64.84551 46.41775, -64.67951 46.50939))',\n",
       " 'cocagne': 'POLYGON ((-64.60878 46.34844, -64.59683 46.31976, -64.707 46.29665, -64.7161 46.32374, -64.60878 46.34844))',\n",
       " 'west': 'POLYGON ((-63.35213 46.21183, -63.173 46.23569, -63.16701 46.16886, -63.35445 46.19325, -63.35213 46.21183))',\n",
       " 'morell': 'POLYGON ((-62.69062 46.36565, -62.71031 46.37163, -62.70038 46.4286, -62.67849 46.42447, -62.69062 46.36565))',\n",
       " 'dunk': 'POLYGON ((-63.81089 46.37233, -63.70096 46.37459, -63.66992 46.34123, -63.77168 46.33771, -63.81089 46.37233))'}"
      ]
     },
     "execution_count": 21,
     "metadata": {},
     "output_type": "execute_result"
    }
   ],
   "source": [
    "geo_dict"
   ]
  },
  {
   "cell_type": "code",
   "execution_count": null,
   "metadata": {},
   "outputs": [],
   "source": []
  }
 ],
 "metadata": {
  "kernelspec": {
   "display_name": "turbidite",
   "language": "python",
   "name": "turbidite"
  },
  "language_info": {
   "codemirror_mode": {
    "name": "ipython",
    "version": 3
   },
   "file_extension": ".py",
   "mimetype": "text/x-python",
   "name": "python",
   "nbconvert_exporter": "python",
   "pygments_lexer": "ipython3",
   "version": "3.10.11"
  },
  "orig_nbformat": 4
 },
 "nbformat": 4,
 "nbformat_minor": 2
}
